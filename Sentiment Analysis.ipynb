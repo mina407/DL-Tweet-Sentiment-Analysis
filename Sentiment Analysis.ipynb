{
 "cells": [
  {
   "cell_type": "markdown",
   "id": "872ba721-71d3-492e-9d2a-365aa4667532",
   "metadata": {},
   "source": [
    "## Cycle of  This Deep Learning Project \n",
    "1. Understanding The Problem\n",
    "2. Data Collection\n",
    "3. Data Analysis\n",
    "4. Pre-processing Text Data\n",
    "5. Build The Model\n",
    "6. Prepare Test Data\n",
    "7. Evaluation \n",
    "8. Optimize The Accuracy\n",
    "9. Build Predictive System\n",
    "10. Save The Model "
   ]
  },
  {
   "cell_type": "markdown",
   "id": "4b02fa58-7a81-4ecb-910d-ab38fe880182",
   "metadata": {},
   "source": [
    "## 1. Understanding The Problem\n",
    "To accurately classify online Comments as positive , negative or Neutral, I developed a deep learning model (Bidirectional_LSTM) capable of effectively capturing the sentiment expressed within text data. The model was designed to learn intricate patterns in language, enabling it to distinguish between Comments conveying satisfaction and those expressing dissatisfaction. By leveraging (Bidirectional_LSTM) architectures, the model excels at processing and understanding the semantic and syntactic components of text,To Predict Positive or Negative Comments in Accurate Way"
   ]
  },
  {
   "cell_type": "markdown",
   "id": "a289d2a6-facd-417a-b543-7d3f971adc6b",
   "metadata": {},
   "source": [
    "### importing The Dependencies "
   ]
  },
  {
   "cell_type": "code",
   "execution_count": 109,
   "id": "9d5afa5d-6809-4a38-8b49-bb5159ead4d3",
   "metadata": {},
   "outputs": [],
   "source": [
    "import pandas as pd\n",
    "import numpy as np\n",
    "import matplotlib.pyplot as plt\n",
    "import seaborn as sns\n",
    "import warnings\n",
    "warnings.filterwarnings('ignore')\n",
    "from collections import Counter\n",
    "from sklearn.model_selection import train_test_split \n",
    "from sklearn.metrics import recall_score , precision_score , classification_report , confusion_matrix , roc_auc_score\n",
    "from nltk.stem import WordNetLemmatizer\n",
    "import re \n",
    "import nltk \n",
    "from tensorflow.keras.preprocessing.text import Tokenizer"
   ]
  },
  {
   "cell_type": "markdown",
   "id": "49170ade-0fa8-41e9-98fd-0c2f8896b74c",
   "metadata": {},
   "source": [
    "## 2. Data Collection\n",
    "1. Loading The Data\n",
    "2. Split The Data Into Train And Test"
   ]
  },
  {
   "cell_type": "code",
   "execution_count": 2,
   "id": "65fe9b03-9303-4fc5-a5cc-cf3624f6f08c",
   "metadata": {},
   "outputs": [
    {
     "data": {
      "text/html": [
       "<div>\n",
       "<style scoped>\n",
       "    .dataframe tbody tr th:only-of-type {\n",
       "        vertical-align: middle;\n",
       "    }\n",
       "\n",
       "    .dataframe tbody tr th {\n",
       "        vertical-align: top;\n",
       "    }\n",
       "\n",
       "    .dataframe thead th {\n",
       "        text-align: right;\n",
       "    }\n",
       "</style>\n",
       "<table border=\"1\" class=\"dataframe\">\n",
       "  <thead>\n",
       "    <tr style=\"text-align: right;\">\n",
       "      <th></th>\n",
       "      <th>textID</th>\n",
       "      <th>text</th>\n",
       "      <th>selected_text</th>\n",
       "      <th>sentiment</th>\n",
       "    </tr>\n",
       "  </thead>\n",
       "  <tbody>\n",
       "    <tr>\n",
       "      <th>0</th>\n",
       "      <td>cb774db0d1</td>\n",
       "      <td>I`d have responded, if I were going</td>\n",
       "      <td>I`d have responded, if I were going</td>\n",
       "      <td>neutral</td>\n",
       "    </tr>\n",
       "    <tr>\n",
       "      <th>1</th>\n",
       "      <td>549e992a42</td>\n",
       "      <td>Sooo SAD I will miss you here in San Diego!!!</td>\n",
       "      <td>Sooo SAD</td>\n",
       "      <td>negative</td>\n",
       "    </tr>\n",
       "    <tr>\n",
       "      <th>2</th>\n",
       "      <td>088c60f138</td>\n",
       "      <td>my boss is bullying me...</td>\n",
       "      <td>bullying me</td>\n",
       "      <td>negative</td>\n",
       "    </tr>\n",
       "    <tr>\n",
       "      <th>3</th>\n",
       "      <td>9642c003ef</td>\n",
       "      <td>what interview! leave me alone</td>\n",
       "      <td>leave me alone</td>\n",
       "      <td>negative</td>\n",
       "    </tr>\n",
       "    <tr>\n",
       "      <th>4</th>\n",
       "      <td>358bd9e861</td>\n",
       "      <td>Sons of ****, why couldn`t they put them on t...</td>\n",
       "      <td>Sons of ****,</td>\n",
       "      <td>negative</td>\n",
       "    </tr>\n",
       "  </tbody>\n",
       "</table>\n",
       "</div>"
      ],
      "text/plain": [
       "       textID                                               text  \\\n",
       "0  cb774db0d1                I`d have responded, if I were going   \n",
       "1  549e992a42      Sooo SAD I will miss you here in San Diego!!!   \n",
       "2  088c60f138                          my boss is bullying me...   \n",
       "3  9642c003ef                     what interview! leave me alone   \n",
       "4  358bd9e861   Sons of ****, why couldn`t they put them on t...   \n",
       "\n",
       "                         selected_text sentiment  \n",
       "0  I`d have responded, if I were going   neutral  \n",
       "1                             Sooo SAD  negative  \n",
       "2                          bullying me  negative  \n",
       "3                       leave me alone  negative  \n",
       "4                        Sons of ****,  negative  "
      ]
     },
     "execution_count": 2,
     "metadata": {},
     "output_type": "execute_result"
    }
   ],
   "source": [
    "# 1- Loading the data \n",
    "data = pd.read_csv('tweet.csv')\n",
    "data.head()"
   ]
  },
  {
   "cell_type": "code",
   "execution_count": 3,
   "id": "00d30156-678d-44df-a8e8-d885d19f8e9d",
   "metadata": {},
   "outputs": [],
   "source": [
    "## Split the data into train and test to prevent any chance for data leakage \n",
    "#1- shuffl the data \n",
    "data_shuffl = data.sample(data.shape[0] , random_state=0).reset_index(drop = True)"
   ]
  },
  {
   "cell_type": "code",
   "execution_count": 4,
   "id": "e5a93c81-f0e3-4209-b294-9aedd02a97dd",
   "metadata": {},
   "outputs": [],
   "source": [
    "# 2. spliting 80 precent for train\n",
    "train = data_shuffl[:21984].reset_index(drop = True)\n",
    "\n",
    "test = data_shuffl[21984:].reset_index(drop = True)"
   ]
  },
  {
   "cell_type": "code",
   "execution_count": 5,
   "id": "c0648d80-ba9c-46c1-b3ea-c49ff4d87570",
   "metadata": {},
   "outputs": [
    {
     "name": "stdout",
     "output_type": "stream",
     "text": [
      "shape of train is (21984, 4) shape of test is (5497, 4)\n"
     ]
    }
   ],
   "source": [
    "## shape after spliting \n",
    "print(f\"shape of train is {train.shape} shape of test is {test.shape}\")"
   ]
  },
  {
   "cell_type": "markdown",
   "id": "6414a2f4-c594-4371-83d3-546fec1c63c1",
   "metadata": {},
   "source": [
    "## 3. Data Analysis\n",
    "1. Imbalance Data\n",
    "2. Missing values\n",
    "3. Duplicated Values\n",
    "4. Number of Characters For Each Labels\n",
    "5. Number of Words For Each Labels\n",
    "6. Number of Sentence For Each Labels "
   ]
  },
  {
   "cell_type": "markdown",
   "id": "144872eb-f92a-4abc-a8d3-6793b960e398",
   "metadata": {},
   "source": [
    "### 1. Imbalance Data"
   ]
  },
  {
   "cell_type": "code",
   "execution_count": 6,
   "id": "1412d5ae-243b-4935-a796-5973cef2912b",
   "metadata": {},
   "outputs": [
    {
     "data": {
      "image/png": "[encoded data removed]",
      "text/plain": [
       "<Figure size 1600x400 with 3 Axes>"
      ]
     },
     "metadata": {},
     "output_type": "display_data"
    }
   ],
   "source": [
    "plt.subplots(figsize = (16,4))\n",
    "plt.subplot(121)\n",
    "plt.pie(train['sentiment'].value_counts(),labels=['Neutral' ,\"Positive\",'Negative' ] , autopct=\"%0.2f\")\n",
    "plt.title('The Distribution of Labels in train data')\n",
    "\n",
    "plt.subplot(122)\n",
    "plt.pie(test['sentiment'].value_counts(),labels=['Neutral' ,\"Positive\",'Negative' ] , autopct=\"%0.2f\")\n",
    "plt.title('The Distribution of Labels in train data')\n",
    "\n",
    "plt.show()"
   ]
  },
  {
   "cell_type": "markdown",
   "id": "7938754d-ee6c-4d0e-b421-762bd1d5df85",
   "metadata": {},
   "source": [
    "### Conclusion\n",
    "#### Dataset is not balanced"
   ]
  },
  {
   "cell_type": "markdown",
   "id": "08ada976-7bc6-4edd-9410-a45d88bd0364",
   "metadata": {},
   "source": [
    "### 2. Missing values"
   ]
  },
  {
   "cell_type": "code",
   "execution_count": 7,
   "id": "07670718-02c8-4a06-aeea-fa2153ded7d2",
   "metadata": {},
   "outputs": [
    {
     "name": "stdout",
     "output_type": "stream",
     "text": [
      " Nan values in train data is \n",
      " textID           0\n",
      "text             1\n",
      "selected_text    1\n",
      "sentiment        0\n",
      "dtype: int64\n",
      " Nan values in train data is\n",
      "  textID           0\n",
      "text             0\n",
      "selected_text    0\n",
      "sentiment        0\n",
      "dtype: int64\n"
     ]
    }
   ],
   "source": [
    "# 1- train \n",
    "print(f\" Nan values in train data is \\n {train.isnull().sum()}\")\n",
    "\n",
    "# 2- test\n",
    "print(f\" Nan values in train data is\\n  {test.isnull().sum()}\")\n"
   ]
  },
  {
   "cell_type": "markdown",
   "id": "a129dde7-a5dc-474b-8c1a-d8eed22bc9d8",
   "metadata": {},
   "source": [
    "#### There is 2 missing values in train data "
   ]
  },
  {
   "cell_type": "code",
   "execution_count": 8,
   "id": "c59757fe-4acc-4e30-811f-79e5b03ec462",
   "metadata": {},
   "outputs": [],
   "source": [
    "## drop nan value in train data \n",
    "train.dropna(inplace=True)"
   ]
  },
  {
   "cell_type": "markdown",
   "id": "2c3d36f3-802f-4879-9504-aaadc86760a8",
   "metadata": {},
   "source": [
    "### 3. Duplicated Values\n"
   ]
  },
  {
   "cell_type": "code",
   "execution_count": 9,
   "id": "a0b93b2a-c3bf-4db7-89b7-2965df26969b",
   "metadata": {},
   "outputs": [
    {
     "name": "stdout",
     "output_type": "stream",
     "text": [
      " Nan values in train data is \n",
      " 0\n",
      " Nan values in train data is\n",
      "  0\n"
     ]
    }
   ],
   "source": [
    "# 1- train \n",
    "print(f\" Nan values in train data is \\n {train.duplicated().sum()}\")\n",
    "\n",
    "# 2- test\n",
    "print(f\" Nan values in train data is\\n  {test.duplicated().sum()}\")\n"
   ]
  },
  {
   "cell_type": "markdown",
   "id": "58ccaaa0-364c-4955-b162-4fc5b73059d0",
   "metadata": {},
   "source": [
    "#### There is no duplicated values "
   ]
  },
  {
   "cell_type": "markdown",
   "id": "75b4b266-9f47-4aeb-b12c-2e2d28d768e4",
   "metadata": {},
   "source": [
    "### 4. Number of Characters For Each Labels"
   ]
  },
  {
   "cell_type": "code",
   "execution_count": 10,
   "id": "664838a3-bbe1-4a73-9898-e905137b50ec",
   "metadata": {},
   "outputs": [],
   "source": [
    "train['Num_char'] = train['text'].apply(len)"
   ]
  },
  {
   "cell_type": "markdown",
   "id": "fdeb9c38-1eaa-4ee8-86e0-fa023d3a20c5",
   "metadata": {},
   "source": [
    "### 5. Number of Words For Each Labels\n"
   ]
  },
  {
   "cell_type": "code",
   "execution_count": 11,
   "id": "ca8673af-8a0c-48a3-b3ab-235554a39a64",
   "metadata": {},
   "outputs": [],
   "source": [
    "train['Num_Word'] = train['text'].apply(lambda x : len(nltk.word_tokenize(x)))"
   ]
  },
  {
   "cell_type": "markdown",
   "id": "1e3e6bd6-4a88-4dd2-9f07-57066b15739e",
   "metadata": {},
   "source": [
    "### 6. Number of Sentence For Each Labels "
   ]
  },
  {
   "cell_type": "code",
   "execution_count": 12,
   "id": "3f596604-b58d-4902-8eec-f71312170cc8",
   "metadata": {},
   "outputs": [],
   "source": [
    "train['Num_Sent'] = train['text'].apply(lambda x : len(nltk.sent_tokenize(x)))"
   ]
  },
  {
   "cell_type": "code",
   "execution_count": 13,
   "id": "6a0f6476-1635-4bb4-b7b7-96cfda0ac960",
   "metadata": {},
   "outputs": [
    {
     "data": {
      "text/html": [
       "<div>\n",
       "<style scoped>\n",
       "    .dataframe tbody tr th:only-of-type {\n",
       "        vertical-align: middle;\n",
       "    }\n",
       "\n",
       "    .dataframe tbody tr th {\n",
       "        vertical-align: top;\n",
       "    }\n",
       "\n",
       "    .dataframe thead th {\n",
       "        text-align: right;\n",
       "    }\n",
       "</style>\n",
       "<table border=\"1\" class=\"dataframe\">\n",
       "  <thead>\n",
       "    <tr style=\"text-align: right;\">\n",
       "      <th></th>\n",
       "      <th>textID</th>\n",
       "      <th>text</th>\n",
       "      <th>selected_text</th>\n",
       "      <th>sentiment</th>\n",
       "      <th>Num_char</th>\n",
       "      <th>Num_Word</th>\n",
       "      <th>Num_Sent</th>\n",
       "    </tr>\n",
       "  </thead>\n",
       "  <tbody>\n",
       "    <tr>\n",
       "      <th>0</th>\n",
       "      <td>80a1e6bc32</td>\n",
       "      <td>I just saw a shooting star... I made my wish</td>\n",
       "      <td>wish</td>\n",
       "      <td>positive</td>\n",
       "      <td>44</td>\n",
       "      <td>11</td>\n",
       "      <td>2</td>\n",
       "    </tr>\n",
       "    <tr>\n",
       "      <th>1</th>\n",
       "      <td>863097735d</td>\n",
       "      <td>gosh today sucks! i didnt get my tax returns! ...</td>\n",
       "      <td>gosh today sucks!</td>\n",
       "      <td>negative</td>\n",
       "      <td>125</td>\n",
       "      <td>28</td>\n",
       "      <td>3</td>\n",
       "    </tr>\n",
       "    <tr>\n",
       "      <th>2</th>\n",
       "      <td>264cd5277f</td>\n",
       "      <td>tired and didn`t really have an exciting Satur...</td>\n",
       "      <td>tired and didn`t really have an exciting Satur...</td>\n",
       "      <td>neutral</td>\n",
       "      <td>87</td>\n",
       "      <td>21</td>\n",
       "      <td>2</td>\n",
       "    </tr>\n",
       "    <tr>\n",
       "      <th>3</th>\n",
       "      <td>baee1e6ffc</td>\n",
       "      <td>i`ve been eating cheetos all morning..</td>\n",
       "      <td>i`ve been eating cheetos all morning..</td>\n",
       "      <td>neutral</td>\n",
       "      <td>38</td>\n",
       "      <td>9</td>\n",
       "      <td>1</td>\n",
       "    </tr>\n",
       "    <tr>\n",
       "      <th>4</th>\n",
       "      <td>67d06a8dee</td>\n",
       "      <td>haiiii sankQ i`m fineee ima js get a checkup ...</td>\n",
       "      <td>haiiii sankQ i`m fineee ima js get a checkup c...</td>\n",
       "      <td>neutral</td>\n",
       "      <td>99</td>\n",
       "      <td>24</td>\n",
       "      <td>1</td>\n",
       "    </tr>\n",
       "  </tbody>\n",
       "</table>\n",
       "</div>"
      ],
      "text/plain": [
       "       textID                                               text  \\\n",
       "0  80a1e6bc32       I just saw a shooting star... I made my wish   \n",
       "1  863097735d  gosh today sucks! i didnt get my tax returns! ...   \n",
       "2  264cd5277f  tired and didn`t really have an exciting Satur...   \n",
       "3  baee1e6ffc             i`ve been eating cheetos all morning..   \n",
       "4  67d06a8dee   haiiii sankQ i`m fineee ima js get a checkup ...   \n",
       "\n",
       "                                       selected_text sentiment  Num_char  \\\n",
       "0                                               wish  positive        44   \n",
       "1                                  gosh today sucks!  negative       125   \n",
       "2  tired and didn`t really have an exciting Satur...   neutral        87   \n",
       "3             i`ve been eating cheetos all morning..   neutral        38   \n",
       "4  haiiii sankQ i`m fineee ima js get a checkup c...   neutral        99   \n",
       "\n",
       "   Num_Word  Num_Sent  \n",
       "0        11         2  \n",
       "1        28         3  \n",
       "2        21         2  \n",
       "3         9         1  \n",
       "4        24         1  "
      ]
     },
     "execution_count": 13,
     "metadata": {},
     "output_type": "execute_result"
    }
   ],
   "source": [
    "train.head()"
   ]
  },
  {
   "cell_type": "code",
   "execution_count": 14,
   "id": "44a85432-ada0-4baa-ac9a-2d4cc79e23a8",
   "metadata": {},
   "outputs": [],
   "source": [
    "## Create data for neutral positvie and negative\n",
    "positive = train[train['sentiment'] == 'positive']\n",
    "\n",
    "negative = train[train['sentiment'] == 'negative']\n",
    "\n",
    "neutral = train[train['sentiment'] == 'neutral']"
   ]
  },
  {
   "cell_type": "code",
   "execution_count": 15,
   "id": "b86125ac-3e0e-4aea-9a58-be6762ac55f7",
   "metadata": {},
   "outputs": [
    {
     "data": {
      "image/png": "[encoded data removed]",
      "text/plain": [
       "<Figure size 1600x500 with 1 Axes>"
      ]
     },
     "metadata": {},
     "output_type": "display_data"
    }
   ],
   "source": [
    "## Showing the differance between real and fake data regarding the num_char \n",
    "plt.figure(figsize=(16,5))\n",
    "sns.histplot(neutral['Num_char'] , bins=50 ,color='orange')\n",
    "sns.histplot(positive['Num_char'] , bins=50 , color='blue')\n",
    "sns.histplot(negative['Num_char'] , bins=50 ,color='red')\n",
    "plt.title('Comapring Number Of Characters')\n",
    "plt.show()\n"
   ]
  },
  {
   "cell_type": "code",
   "execution_count": 16,
   "id": "9b02cc74-eb24-4b24-8797-950c379f0f4d",
   "metadata": {},
   "outputs": [
    {
     "name": "stderr",
     "output_type": "stream",
     "text": [
      "No artists with labels found to put in legend.  Note that artists whose label start with an underscore are ignored when legend() is called with no argument.\n"
     ]
    },
    {
     "data": {
      "image/png": "[encoded data removed]",
      "text/plain": [
       "<Figure size 1600x500 with 1 Axes>"
      ]
     },
     "metadata": {},
     "output_type": "display_data"
    }
   ],
   "source": [
    "## Showing the differance between real and fake data regarding the number of words \n",
    "plt.figure(figsize=(16,5))\n",
    "sns.histplot(neutral['Num_Word'] ,  bins=50 ,color='orange')\n",
    "sns.histplot(positive['Num_Word'] , bins=50 , color='blue')\n",
    "sns.histplot(negative['Num_Word'] , bins=50 ,color='red')\n",
    "plt.title('Comapring Number Of Words')\n",
    "plt.legend()\n",
    "plt.show()\n"
   ]
  },
  {
   "cell_type": "code",
   "execution_count": 17,
   "id": "5c11ea30-016e-45b2-84de-92db56c819e2",
   "metadata": {},
   "outputs": [
    {
     "data": {
      "image/png": "[encoded data removed]",
      "text/plain": [
       "<Figure size 1600x500 with 1 Axes>"
      ]
     },
     "metadata": {},
     "output_type": "display_data"
    }
   ],
   "source": [
    "## Showing the differance between real and fake data regarding the number of sentence \n",
    "plt.figure(figsize=(16,5))\n",
    "sns.histplot(neutral['Num_Sent'] , bins=50 ,color='orange')\n",
    "sns.histplot(positive['Num_Sent'] , bins=50 , color='blue')\n",
    "sns.histplot(negative['Num_Sent'] , bins=50 ,color='red')\n",
    "plt.title('Comapring Number Of Sentence')\n",
    "plt.show()\n"
   ]
  },
  {
   "cell_type": "markdown",
   "id": "8cd823ab-308f-44fa-81ce-d50fecd9fa67",
   "metadata": {},
   "source": [
    "### Conclusion\n",
    "#### Positive has the most number of Sentence"
   ]
  },
  {
   "cell_type": "markdown",
   "id": "4ebabeca-67b0-4b80-973c-ae136a933c67",
   "metadata": {},
   "source": [
    "## 4. Pre-processing Text Data\n",
    "1. Removing special characters\n",
    "2. Lower Case\n",
    "3. Tokeniaztion\n",
    "4. Reduce Words To Its Root "
   ]
  },
  {
   "cell_type": "markdown",
   "id": "6f625990-1b41-487a-a07b-b268e70c3ead",
   "metadata": {},
   "source": [
    "### Encoding \n",
    "1. using One_Hot_Encoder"
   ]
  },
  {
   "cell_type": "code",
   "execution_count": 18,
   "id": "bde7347d-0de1-4a52-9d31-3cbc1628c27f",
   "metadata": {},
   "outputs": [],
   "source": [
    "## one_hot_encoder ==> train\n",
    "train['sentiment'] = train['sentiment'].map({'positive' : 1 , 'negative' : 0 , 'neutral':2})\n",
    "\n",
    "\n",
    "test['sentiment'] = test['sentiment'].map({'positive' : 1 , 'negative' : 0 , 'neutral':2})\n"
   ]
  },
  {
   "cell_type": "code",
   "execution_count": 19,
   "id": "c894e031-1913-44ef-ad06-ad9d4a54e3b0",
   "metadata": {},
   "outputs": [
    {
     "data": {
      "text/html": [
       "<div>\n",
       "<style scoped>\n",
       "    .dataframe tbody tr th:only-of-type {\n",
       "        vertical-align: middle;\n",
       "    }\n",
       "\n",
       "    .dataframe tbody tr th {\n",
       "        vertical-align: top;\n",
       "    }\n",
       "\n",
       "    .dataframe thead th {\n",
       "        text-align: right;\n",
       "    }\n",
       "</style>\n",
       "<table border=\"1\" class=\"dataframe\">\n",
       "  <thead>\n",
       "    <tr style=\"text-align: right;\">\n",
       "      <th></th>\n",
       "      <th>textID</th>\n",
       "      <th>text</th>\n",
       "      <th>selected_text</th>\n",
       "      <th>sentiment</th>\n",
       "      <th>Num_char</th>\n",
       "      <th>Num_Word</th>\n",
       "      <th>Num_Sent</th>\n",
       "    </tr>\n",
       "  </thead>\n",
       "  <tbody>\n",
       "    <tr>\n",
       "      <th>0</th>\n",
       "      <td>80a1e6bc32</td>\n",
       "      <td>I just saw a shooting star... I made my wish</td>\n",
       "      <td>wish</td>\n",
       "      <td>1</td>\n",
       "      <td>44</td>\n",
       "      <td>11</td>\n",
       "      <td>2</td>\n",
       "    </tr>\n",
       "    <tr>\n",
       "      <th>1</th>\n",
       "      <td>863097735d</td>\n",
       "      <td>gosh today sucks! i didnt get my tax returns! ...</td>\n",
       "      <td>gosh today sucks!</td>\n",
       "      <td>0</td>\n",
       "      <td>125</td>\n",
       "      <td>28</td>\n",
       "      <td>3</td>\n",
       "    </tr>\n",
       "    <tr>\n",
       "      <th>2</th>\n",
       "      <td>264cd5277f</td>\n",
       "      <td>tired and didn`t really have an exciting Satur...</td>\n",
       "      <td>tired and didn`t really have an exciting Satur...</td>\n",
       "      <td>2</td>\n",
       "      <td>87</td>\n",
       "      <td>21</td>\n",
       "      <td>2</td>\n",
       "    </tr>\n",
       "    <tr>\n",
       "      <th>3</th>\n",
       "      <td>baee1e6ffc</td>\n",
       "      <td>i`ve been eating cheetos all morning..</td>\n",
       "      <td>i`ve been eating cheetos all morning..</td>\n",
       "      <td>2</td>\n",
       "      <td>38</td>\n",
       "      <td>9</td>\n",
       "      <td>1</td>\n",
       "    </tr>\n",
       "    <tr>\n",
       "      <th>4</th>\n",
       "      <td>67d06a8dee</td>\n",
       "      <td>haiiii sankQ i`m fineee ima js get a checkup ...</td>\n",
       "      <td>haiiii sankQ i`m fineee ima js get a checkup c...</td>\n",
       "      <td>2</td>\n",
       "      <td>99</td>\n",
       "      <td>24</td>\n",
       "      <td>1</td>\n",
       "    </tr>\n",
       "  </tbody>\n",
       "</table>\n",
       "</div>"
      ],
      "text/plain": [
       "       textID                                               text  \\\n",
       "0  80a1e6bc32       I just saw a shooting star... I made my wish   \n",
       "1  863097735d  gosh today sucks! i didnt get my tax returns! ...   \n",
       "2  264cd5277f  tired and didn`t really have an exciting Satur...   \n",
       "3  baee1e6ffc             i`ve been eating cheetos all morning..   \n",
       "4  67d06a8dee   haiiii sankQ i`m fineee ima js get a checkup ...   \n",
       "\n",
       "                                       selected_text  sentiment  Num_char  \\\n",
       "0                                               wish          1        44   \n",
       "1                                  gosh today sucks!          0       125   \n",
       "2  tired and didn`t really have an exciting Satur...          2        87   \n",
       "3             i`ve been eating cheetos all morning..          2        38   \n",
       "4  haiiii sankQ i`m fineee ima js get a checkup c...          2        99   \n",
       "\n",
       "   Num_Word  Num_Sent  \n",
       "0        11         2  \n",
       "1        28         3  \n",
       "2        21         2  \n",
       "3         9         1  \n",
       "4        24         1  "
      ]
     },
     "execution_count": 19,
     "metadata": {},
     "output_type": "execute_result"
    }
   ],
   "source": [
    "train.head()"
   ]
  },
  {
   "cell_type": "code",
   "execution_count": 20,
   "id": "da9be6ae-2ad1-42bf-ab44-82624e398971",
   "metadata": {},
   "outputs": [],
   "source": [
    "import tensorflow as tf\n",
    "from tensorflow import keras\n",
    "from tensorflow.keras.models import Sequential ## to create neural network\n",
    "from tensorflow.keras.layers import Dense # to create layers and units\n",
    "from tensorflow.keras.layers import  Embedding # to convert text to vector\n",
    "from tensorflow.keras.layers import  LSTM , Bidirectional ## prevent vanshing gradient problem\n",
    "from tensorflow.keras.preprocessing.text import one_hot ## assigns number for each unique word vocablary size\n",
    "from tensorflow.keras.preprocessing.sequence import pad_sequences # to make all sentens same length\n",
    "from sklearn.feature_extraction.text import CountVectorizer"
   ]
  },
  {
   "cell_type": "code",
   "execution_count": 21,
   "id": "ed395f93-106f-4a9e-ac1d-384f98b0d7ec",
   "metadata": {},
   "outputs": [],
   "source": [
    "## Create object for tokenizer\n",
    "tokenizer = Tokenizer(num_words=5000) # most commen and frequant words\n",
    "## fitting on train data \n",
    "tokenizer.fit_on_texts(train['selected_text'])"
   ]
  },
  {
   "cell_type": "code",
   "execution_count": 22,
   "id": "27cd26dc-145e-43d1-bfb7-91916d6e300d",
   "metadata": {},
   "outputs": [
    {
     "name": "stdout",
     "output_type": "stream",
     "text": [
      "max length is 63\n"
     ]
    }
   ],
   "source": [
    "## showing most numbers of words \n",
    "print(f\"max length is {train['Num_Word'].max()}\")\n"
   ]
  },
  {
   "cell_type": "code",
   "execution_count": 23,
   "id": "0580a010-91fd-4930-ba45-704b143bcf19",
   "metadata": {},
   "outputs": [],
   "source": [
    "max_length = 65\n",
    "\n",
    "## padding Make all sentence same length \n",
    "X_train = pad_sequences(tokenizer.texts_to_sequences(train['selected_text']) ,maxlen=max_length )"
   ]
  },
  {
   "cell_type": "code",
   "execution_count": 24,
   "id": "08075334-a4df-4ce9-9f46-9fdd059ae0cb",
   "metadata": {},
   "outputs": [],
   "source": [
    "## Spliting the data into features and target\n",
    "y_train = train['sentiment']\n",
    "\n",
    "y_test = test['sentiment']"
   ]
  },
  {
   "cell_type": "code",
   "execution_count": 25,
   "id": "d9d13ada-9ab0-439b-86ad-95b013d512a8",
   "metadata": {},
   "outputs": [
    {
     "data": {
      "text/plain": [
       "((21983, 65), (21983,))"
      ]
     },
     "execution_count": 25,
     "metadata": {},
     "output_type": "execute_result"
    }
   ],
   "source": [
    "## shape of X_train and Y_train\n",
    "X_train.shape , y_train.shape"
   ]
  },
  {
   "cell_type": "code",
   "execution_count": 26,
   "id": "b465fcba-dae8-45df-a59c-dfa87c6968a2",
   "metadata": {},
   "outputs": [],
   "source": [
    "## Convert features and target to array\n",
    "X_train_final = X_train\n",
    "\n",
    "y_train_final = y_train"
   ]
  },
  {
   "cell_type": "code",
   "execution_count": 27,
   "id": "a911185f-6cc3-4fc8-9356-ee8e8c8363fc",
   "metadata": {},
   "outputs": [
    {
     "data": {
      "text/plain": [
       "0        1\n",
       "1        0\n",
       "2        2\n",
       "3        2\n",
       "4        2\n",
       "        ..\n",
       "21979    1\n",
       "21980    2\n",
       "21981    1\n",
       "21982    2\n",
       "21983    2\n",
       "Name: sentiment, Length: 21983, dtype: int64"
      ]
     },
     "execution_count": 27,
     "metadata": {},
     "output_type": "execute_result"
    }
   ],
   "source": [
    "y_train_final"
   ]
  },
  {
   "cell_type": "code",
   "execution_count": 28,
   "id": "a1ff267f-ff12-4ae7-93a0-078004e34efd",
   "metadata": {},
   "outputs": [
    {
     "data": {
      "text/plain": [
       "array([[   0,    0,    0, ...,    0,    0,  100],\n",
       "       [   0,    0,    0, ..., 1337,   46,  150],\n",
       "       [   0,    0,    0, ...,   10,  121,  119],\n",
       "       ...,\n",
       "       [   0,    0,    0, ...,    0,   22,  286],\n",
       "       [   0,    0,    0, ...,  466,  116, 1016],\n",
       "       [   0,    0,    0, ...,    1,   21,  184]])"
      ]
     },
     "execution_count": 28,
     "metadata": {},
     "output_type": "execute_result"
    }
   ],
   "source": [
    "X_train_final"
   ]
  },
  {
   "cell_type": "markdown",
   "id": "3247c190-9674-461a-991a-495e007c5384",
   "metadata": {},
   "source": [
    "## 5.Build The Model"
   ]
  },
  {
   "cell_type": "code",
   "execution_count": 29,
   "id": "251c15fe-87b2-4673-9b26-9e69843a3784",
   "metadata": {},
   "outputs": [],
   "source": [
    "## Create the model\n",
    "def lstm_model(X_train ,y_train , X_test ,y_test):\n",
    "    features_vector = 100\n",
    "    voc_size = 5000\n",
    "    model = tf.keras.Sequential()\n",
    "    \n",
    "    model.add(Embedding(voc_size ,features_vector  , input_length=max_length))\n",
    "    \n",
    "    model.add(Bidirectional(LSTM(units=128 , dropout = 0.2 ,recurrent_dropout = 0.2)))\n",
    "    \n",
    "    ## output layer\n",
    "    model.add(keras.layers.Dense(units = 3, activation=keras.activations.softmax))\n",
    "    \n",
    "    ## updating weight to minimize loss func\n",
    "    model.compile(optimizer=keras.optimizers.Adam(learning_rate=0.01),\n",
    "                loss=keras.losses.sparse_categorical_crossentropy,\n",
    "                metrics=['accuracy'])\n",
    "    \n",
    "    ## early stopping to not overfitting\n",
    "    early_stop = keras.callbacks.EarlyStopping(monitor='val_loss', patience=5)\n",
    "    \n",
    "    \n",
    "    model.fit(X_train , y_train  , validation_split=0.20 , epochs=3 , callbacks = [early_stop] , batch_size = 64)\n",
    "\n",
    "    ## evaluation \n",
    "    loss , accuracy = model.evaluate(X_test ,y_test ) \n",
    "    print(f'Accuracy is {accuracy}')\n",
    "\n",
    "    return model "
   ]
  },
  {
   "cell_type": "markdown",
   "id": "af1365b4-a5c2-4875-8660-1511906f78e1",
   "metadata": {},
   "source": [
    "## 6.Test Data Pre-processing"
   ]
  },
  {
   "cell_type": "code",
   "execution_count": 30,
   "id": "d4fa887c-a0ce-4689-bea7-b0bf67fc42a0",
   "metadata": {},
   "outputs": [],
   "source": [
    "## tokniazation \n",
    "X_test = pad_sequences(tokenizer.texts_to_sequences(test['selected_text']) , maxlen=max_length)\n",
    "\n",
    "## Convert features and target to array\n",
    "X_test_final = X_test\n",
    "\n",
    "y_test_final = y_test"
   ]
  },
  {
   "cell_type": "code",
   "execution_count": 31,
   "id": "063dabca-28c5-4a4b-b469-f3cba36de547",
   "metadata": {},
   "outputs": [
    {
     "data": {
      "text/plain": [
       "((5497, 65), (5497,))"
      ]
     },
     "execution_count": 31,
     "metadata": {},
     "output_type": "execute_result"
    }
   ],
   "source": [
    "X_test_final.shape , y_test_final.shape"
   ]
  },
  {
   "cell_type": "code",
   "execution_count": 32,
   "id": "cea3dd2f-28cd-4096-974a-b18c7704a323",
   "metadata": {},
   "outputs": [
    {
     "name": "stdout",
     "output_type": "stream",
     "text": [
      "WARNING:tensorflow:From C:\\Users\\Kimo Store\\anaconda3\\Lib\\site-packages\\keras\\src\\backend.py:873: The name tf.get_default_graph is deprecated. Please use tf.compat.v1.get_default_graph instead.\n",
      "\n",
      "Epoch 1/3\n",
      "WARNING:tensorflow:From C:\\Users\\Kimo Store\\anaconda3\\Lib\\site-packages\\keras\\src\\utils\\tf_utils.py:492: The name tf.ragged.RaggedTensorValue is deprecated. Please use tf.compat.v1.ragged.RaggedTensorValue instead.\n",
      "\n",
      "WARNING:tensorflow:From C:\\Users\\Kimo Store\\anaconda3\\Lib\\site-packages\\keras\\src\\engine\\base_layer_utils.py:384: The name tf.executing_eagerly_outside_functions is deprecated. Please use tf.compat.v1.executing_eagerly_outside_functions instead.\n",
      "\n",
      "275/275 [==============================] - 137s 459ms/step - loss: 0.5477 - accuracy: 0.7855 - val_loss: 0.4502 - val_accuracy: 0.8310\n",
      "Epoch 2/3\n",
      "275/275 [==============================] - 138s 502ms/step - loss: 0.3302 - accuracy: 0.8790 - val_loss: 0.4607 - val_accuracy: 0.8324\n",
      "Epoch 3/3\n",
      "275/275 [==============================] - 138s 500ms/step - loss: 0.2422 - accuracy: 0.9104 - val_loss: 0.5426 - val_accuracy: 0.8247\n",
      "172/172 [==============================] - 6s 34ms/step - loss: 0.5165 - accuracy: 0.8306\n",
      "Accuracy is 0.8306348919868469\n"
     ]
    }
   ],
   "source": [
    "model_1 = lstm_model(X_train_final , y_train_final , X_test_final , y_test_final)"
   ]
  },
  {
   "cell_type": "markdown",
   "id": "ce3c3a97-4899-4ba3-a630-cfb6e1bdc32c",
   "metadata": {},
   "source": [
    "## 7. Evaluation "
   ]
  },
  {
   "cell_type": "code",
   "execution_count": 33,
   "id": "d9df0fad-56ab-487b-a01c-37a76a7a8eaa",
   "metadata": {},
   "outputs": [
    {
     "name": "stdout",
     "output_type": "stream",
     "text": [
      "172/172 [==============================] - 6s 32ms/step\n"
     ]
    }
   ],
   "source": [
    "## make prediction\n",
    "y_pred = model_1.predict(X_test) \n",
    "\n",
    "y_pred = [np.argmax(i) for i in y_pred]\n"
   ]
  },
  {
   "cell_type": "code",
   "execution_count": 34,
   "id": "1a706168-eaee-4b18-a7f6-ab37b9ac44de",
   "metadata": {},
   "outputs": [],
   "source": [
    "confusion_matrix = tf.math.confusion_matrix(labels=y_test_final, predictions=y_pred)\n",
    "## convert it into array\n",
    "confusion_matrix = confusion_matrix.numpy()"
   ]
  },
  {
   "cell_type": "code",
   "execution_count": 35,
   "id": "5c567f8a-cd59-4f3d-a5e0-1631b3fbdd64",
   "metadata": {},
   "outputs": [
    {
     "data": {
      "image/png": "[encoded data removed]",
      "text/plain": [
       "<Figure size 640x480 with 2 Axes>"
      ]
     },
     "metadata": {},
     "output_type": "display_data"
    }
   ],
   "source": [
    "from sklearn.metrics import ConfusionMatrixDisplay , precision_score , recall_score , f1_score\n",
    "## ploting confusion_matrix\n",
    "disp = ConfusionMatrixDisplay(confusion_matrix=confusion_matrix)\n",
    "\n",
    "# Plot the confusion matrix\n",
    "disp.plot()\n",
    "plt.show()"
   ]
  },
  {
   "cell_type": "code",
   "execution_count": 36,
   "id": "70d8a728-87d5-4227-878e-78d36b38e9f2",
   "metadata": {},
   "outputs": [],
   "source": [
    "def macro_average(y_true, y_pred):\n",
    "\n",
    "    # Calculate precision, recall, and F1-score for each label\n",
    "    precision = precision_score(y_true, y_pred, average=None)\n",
    "    recall = recall_score(y_true, y_pred, average=None)\n",
    "    f1 = f1_score(y_true, y_pred, average=None)\n",
    "    \n",
    "    # Calculate macro-average\n",
    "    \n",
    "    macro_precision = precision.mean()\n",
    "    macro_recall = recall.mean()\n",
    "    macro_f1 = f1.mean()\n",
    "    \n",
    "    print(f\"macro_precision is {macro_precision}\")\n",
    "    print(f\"macro_recall is {macro_recall}\")\n",
    "    print(f\"macro_f1 is {macro_f1}\")"
   ]
  },
  {
   "cell_type": "code",
   "execution_count": 37,
   "id": "d6e1a76f-8e9f-4341-b16c-b65435515ab3",
   "metadata": {},
   "outputs": [
    {
     "name": "stdout",
     "output_type": "stream",
     "text": [
      "macro_precision is 0.8380027395457111\n",
      "macro_recall is 0.8246206147758371\n",
      "macro_f1 is 0.8298169262114244\n"
     ]
    }
   ],
   "source": [
    "orgin_data_evaluation = macro_average(y_test_final , y_pred)\n",
    "orgin_data_evaluation"
   ]
  },
  {
   "cell_type": "markdown",
   "id": "296fd782-4686-46f0-bfaa-676a826e05fc",
   "metadata": {},
   "source": [
    "### 8.  Optimize The Accuracy Based on Balanced Data\n",
    "1. Oversampling Technique Smote\n",
    "2. Undersampling Technique Tomlinks"
   ]
  },
  {
   "cell_type": "markdown",
   "id": "9be92cc2-f969-487f-88fc-7195d9f8e80c",
   "metadata": {},
   "source": [
    "### 1. Oversampling Technique Smote\n"
   ]
  },
  {
   "cell_type": "code",
   "execution_count": 38,
   "id": "63c46fc8-4d41-4d21-9a53-750a01968549",
   "metadata": {},
   "outputs": [],
   "source": [
    "from imblearn.over_sampling import SMOTE\n",
    "## Create object for somte \n",
    "smote = SMOTE(sampling_strategy = 'minority')"
   ]
  },
  {
   "cell_type": "code",
   "execution_count": 39,
   "id": "b603c739-0fc3-4ec7-a243-11e6f8d05664",
   "metadata": {},
   "outputs": [
    {
     "data": {
      "text/plain": [
       "sentiment\n",
       "2    8886\n",
       "1    6897\n",
       "0    6200\n",
       "Name: count, dtype: int64"
      ]
     },
     "execution_count": 39,
     "metadata": {},
     "output_type": "execute_result"
    }
   ],
   "source": [
    "y_train_final.value_counts()"
   ]
  },
  {
   "cell_type": "code",
   "execution_count": 40,
   "id": "e47edaa1-4f10-48fb-abe5-a2c592f8e6c7",
   "metadata": {},
   "outputs": [],
   "source": [
    "## applying smote frist minority\n",
    "X_train_sm , y_train_sm = smote.fit_resample(X_train_final , y_train_final)\n",
    "\n",
    "X_test_sm , y_test_sm = smote.fit_resample(X_test_final , y_test_final)"
   ]
  },
  {
   "cell_type": "code",
   "execution_count": 41,
   "id": "94a8a54e-4213-4185-b492-90aacf4ff07c",
   "metadata": {},
   "outputs": [],
   "source": [
    "## applying smote second minority\n",
    "X_train_sm , y_train_sm = smote.fit_resample(X_train_sm , y_train_sm)\n",
    "\n",
    "X_test_sm , y_test_sm = smote.fit_resample(X_test_sm , y_test_sm)"
   ]
  },
  {
   "cell_type": "code",
   "execution_count": 42,
   "id": "d1c6eab6-3c15-4af4-ae3e-55b0d166c50f",
   "metadata": {},
   "outputs": [
    {
     "data": {
      "text/plain": [
       "sentiment\n",
       "1    8886\n",
       "0    8886\n",
       "2    8886\n",
       "Name: count, dtype: int64"
      ]
     },
     "execution_count": 42,
     "metadata": {},
     "output_type": "execute_result"
    }
   ],
   "source": [
    "## y_train after resample \n",
    "y_train_sm.value_counts()"
   ]
  },
  {
   "cell_type": "code",
   "execution_count": 43,
   "id": "a002c717-b807-441d-9b42-acffcdc8ca73",
   "metadata": {},
   "outputs": [
    {
     "data": {
      "text/plain": [
       "sentiment\n",
       "1    2231\n",
       "2    2231\n",
       "0    2231\n",
       "Name: count, dtype: int64"
      ]
     },
     "execution_count": 43,
     "metadata": {},
     "output_type": "execute_result"
    }
   ],
   "source": [
    "## y_test after resample\n",
    "y_test_sm.value_counts()"
   ]
  },
  {
   "cell_type": "code",
   "execution_count": 44,
   "id": "84afda62-c3f7-4b25-aa82-86c6f1523115",
   "metadata": {},
   "outputs": [
    {
     "name": "stdout",
     "output_type": "stream",
     "text": [
      "Epoch 1/3\n",
      "334/334 [==============================] - 168s 479ms/step - loss: 0.5232 - accuracy: 0.7943 - val_loss: 1.0340 - val_accuracy: 0.6208\n",
      "Epoch 2/3\n",
      "334/334 [==============================] - 167s 501ms/step - loss: 0.3361 - accuracy: 0.8748 - val_loss: 1.1287 - val_accuracy: 0.6195\n",
      "Epoch 3/3\n",
      "334/334 [==============================] - 168s 502ms/step - loss: 0.2517 - accuracy: 0.9071 - val_loss: 1.4955 - val_accuracy: 0.6073\n",
      "210/210 [==============================] - 8s 40ms/step - loss: 0.7236 - accuracy: 0.7896\n",
      "Accuracy is 0.7896309494972229\n"
     ]
    }
   ],
   "source": [
    "## fitting on data after resample \n",
    "model_sm = lstm_model(X_train_sm , y_train_sm , X_test_sm , y_test_sm)"
   ]
  },
  {
   "cell_type": "code",
   "execution_count": 45,
   "id": "aa02bbd8-8a6d-46fa-8b19-73d3e3081f40",
   "metadata": {},
   "outputs": [
    {
     "name": "stdout",
     "output_type": "stream",
     "text": [
      "210/210 [==============================] - 10s 40ms/step\n"
     ]
    }
   ],
   "source": [
    "## make prediction\n",
    "y_pred_sm = model_sm.predict(X_test_sm) \n",
    "\n",
    "y_pred_sm = [np.argmax(i) for i in y_pred_sm]"
   ]
  },
  {
   "cell_type": "code",
   "execution_count": 46,
   "id": "84c6a614-36ff-41d6-a46a-d2072f35bf51",
   "metadata": {},
   "outputs": [],
   "source": [
    "confusion_matrix = tf.math.confusion_matrix(labels=y_test_sm, predictions=y_pred_sm)\n",
    "## convert it into array\n",
    "confusion_matrix = confusion_matrix.numpy()"
   ]
  },
  {
   "cell_type": "code",
   "execution_count": 47,
   "id": "5dc1725d-4dd4-4f15-92ad-ae8957ad764c",
   "metadata": {},
   "outputs": [
    {
     "data": {
      "image/png": "[encoded data removed]",
      "text/plain": [
       "<Figure size 640x480 with 2 Axes>"
      ]
     },
     "metadata": {},
     "output_type": "display_data"
    }
   ],
   "source": [
    "from sklearn.metrics import ConfusionMatrixDisplay , precision_score , recall_score , f1_score\n",
    "## ploting confusion_matrix\n",
    "disp = ConfusionMatrixDisplay(confusion_matrix=confusion_matrix)\n",
    "\n",
    "# Plot the confusion matrix\n",
    "disp.plot()\n",
    "plt.show()"
   ]
  },
  {
   "cell_type": "code",
   "execution_count": 48,
   "id": "243e8e28-4d63-4a3b-87f1-278acd39c25d",
   "metadata": {},
   "outputs": [
    {
     "name": "stdout",
     "output_type": "stream",
     "text": [
      "macro_precision is 0.7999094155757357\n",
      "macro_recall is 0.7896309577170179\n",
      "macro_f1 is 0.7895205498509726\n"
     ]
    }
   ],
   "source": [
    "sm_evaluation = macro_average(y_test_sm , y_pred_sm)\n",
    "sm_evaluation"
   ]
  },
  {
   "cell_type": "markdown",
   "id": "140730df-3994-49ff-a2a9-2e4e792bccb3",
   "metadata": {},
   "source": [
    "### 2. Undersampling Technique Tomlinks"
   ]
  },
  {
   "cell_type": "code",
   "execution_count": 49,
   "id": "b2ee4918-e59d-4a4f-963c-5d8013d5bc69",
   "metadata": {},
   "outputs": [],
   "source": [
    "from imblearn.under_sampling import TomekLinks\n",
    "## Create object \n",
    "tomlinks = TomekLinks(sampling_strategy = 'majority')"
   ]
  },
  {
   "cell_type": "code",
   "execution_count": 50,
   "id": "82a2fb6c-5ad8-4ebf-bd02-6e0e14eb1752",
   "metadata": {},
   "outputs": [],
   "source": [
    "## applying smote frist minority\n",
    "X_train_tom , y_train_tom = tomlinks.fit_resample(X_train_final , y_train_final)\n",
    "\n",
    "X_test_tom , y_test_tom = tomlinks.fit_resample(X_test_final , y_test_final)"
   ]
  },
  {
   "cell_type": "code",
   "execution_count": 51,
   "id": "059862f8-fe3c-408f-af35-033774238e24",
   "metadata": {},
   "outputs": [
    {
     "data": {
      "text/plain": [
       "sentiment\n",
       "2    7756\n",
       "1    6897\n",
       "0    6200\n",
       "Name: count, dtype: int64"
      ]
     },
     "execution_count": 51,
     "metadata": {},
     "output_type": "execute_result"
    }
   ],
   "source": [
    "## y_train after resample \n",
    "y_train_tom.value_counts()"
   ]
  },
  {
   "cell_type": "code",
   "execution_count": 52,
   "id": "175ec02a-415a-4276-ba1a-8f3666493d36",
   "metadata": {},
   "outputs": [
    {
     "data": {
      "text/plain": [
       "sentiment\n",
       "2    1954\n",
       "1    1685\n",
       "0    1581\n",
       "Name: count, dtype: int64"
      ]
     },
     "execution_count": 52,
     "metadata": {},
     "output_type": "execute_result"
    }
   ],
   "source": [
    "## y_test after resample\n",
    "y_test_tom.value_counts()"
   ]
  },
  {
   "cell_type": "code",
   "execution_count": 53,
   "id": "14b2961f-4f82-43e7-a22c-0bad8c629713",
   "metadata": {},
   "outputs": [
    {
     "name": "stdout",
     "output_type": "stream",
     "text": [
      "Epoch 1/3\n",
      "261/261 [==============================] - 149s 534ms/step - loss: 0.5347 - accuracy: 0.7848 - val_loss: 0.4240 - val_accuracy: 0.8425\n",
      "Epoch 2/3\n",
      "261/261 [==============================] - 168s 643ms/step - loss: 0.3263 - accuracy: 0.8785 - val_loss: 0.4641 - val_accuracy: 0.8228\n",
      "Epoch 3/3\n",
      "261/261 [==============================] - 172s 659ms/step - loss: 0.2270 - accuracy: 0.9170 - val_loss: 0.5330 - val_accuracy: 0.8247\n",
      "164/164 [==============================] - 7s 45ms/step - loss: 0.4988 - accuracy: 0.8398\n",
      "Accuracy is 0.8398467302322388\n"
     ]
    }
   ],
   "source": [
    "## fitting on data after resample \n",
    "model_tom = lstm_model(X_train_tom , y_train_tom , X_test_tom , y_test_tom)"
   ]
  },
  {
   "cell_type": "code",
   "execution_count": 54,
   "id": "a35bd591-8f1c-49b4-a4c2-c354d7d30e9b",
   "metadata": {},
   "outputs": [
    {
     "name": "stdout",
     "output_type": "stream",
     "text": [
      "164/164 [==============================] - 8s 45ms/step\n"
     ]
    }
   ],
   "source": [
    "## make prediction\n",
    "y_pred_tom = model_tom.predict(X_test_tom) \n",
    "\n",
    "y_pred_tom = [np.argmax(i) for i in y_pred_tom]"
   ]
  },
  {
   "cell_type": "code",
   "execution_count": 55,
   "id": "27fa4737-96e3-4e6b-9b63-371de706544c",
   "metadata": {},
   "outputs": [],
   "source": [
    "confusion_matrix = tf.math.confusion_matrix(labels=y_test_tom, predictions=y_pred_tom)\n",
    "## convert it into array\n",
    "confusion_matrix = confusion_matrix.numpy()"
   ]
  },
  {
   "cell_type": "code",
   "execution_count": 56,
   "id": "7ce37a77-ffba-4aa7-bd23-9fd5e47988d7",
   "metadata": {},
   "outputs": [
    {
     "data": {
      "image/png": "[encoded data removed]",
      "text/plain": [
       "<Figure size 640x480 with 2 Axes>"
      ]
     },
     "metadata": {},
     "output_type": "display_data"
    }
   ],
   "source": [
    "from sklearn.metrics import ConfusionMatrixDisplay , precision_score , recall_score , f1_score\n",
    "## ploting confusion_matrix\n",
    "disp = ConfusionMatrixDisplay(confusion_matrix=confusion_matrix)\n",
    "\n",
    "# Plot the confusion matrix\n",
    "disp.plot()\n",
    "plt.show()"
   ]
  },
  {
   "cell_type": "code",
   "execution_count": 58,
   "id": "b417a268-8ffe-4d31-81c3-b38f265f5260",
   "metadata": {},
   "outputs": [
    {
     "name": "stdout",
     "output_type": "stream",
     "text": [
      "macro_precision is 0.8436720351180519\n",
      "macro_recall is 0.8374870624358621\n",
      "macro_f1 is 0.8397836307766785\n"
     ]
    }
   ],
   "source": [
    "tom_evaluation = macro_average(y_test_tom , y_pred_tom)\n",
    "tom_evaluation"
   ]
  },
  {
   "cell_type": "markdown",
   "id": "768036fb-0aac-464e-bafb-fa909e42bdbd",
   "metadata": {},
   "source": [
    "### Insight \n",
    "#### Based on macro_precision , macro_recall and macro_f1 Used different technique the best accuracy is model we used Tomlinks as technique to address imbalanced dataset problem "
   ]
  },
  {
   "cell_type": "markdown",
   "id": "1a8346df-634e-48ae-b244-22b57054071c",
   "metadata": {},
   "source": [
    "## 9. Predictive System"
   ]
  },
  {
   "cell_type": "code",
   "execution_count": 89,
   "id": "8b853ab1-8bf7-45ef-8444-dfda7938d3c2",
   "metadata": {},
   "outputs": [],
   "source": [
    "def predict_sentiment(text):\n",
    "  # Tokenization\n",
    "  feature = tokenizer.texts_to_sequences([text])\n",
    "\n",
    "  # Padding\n",
    "  padding_features = pad_sequences(feature, maxlen=max_length)\n",
    "\n",
    "  # Make prediction\n",
    "  prediction = model_tom.predict(padding_features)\n",
    "  prediction = [np.argmax(i) for i in prediction]\n",
    "\n",
    "  # Output\n",
    "  if prediction[0] == 1:\n",
    "      return \"Positive\"\n",
    "  elif prediction[0] == 0:\n",
    "      return \"Negative\"\n",
    "  else:\n",
    "      return \"Neutral\"\n"
   ]
  },
  {
   "cell_type": "code",
   "execution_count": 92,
   "id": "20e37109-32fd-4d92-8a31-b9f7d36ba6ff",
   "metadata": {},
   "outputs": [
    {
     "name": "stdout",
     "output_type": "stream",
     "text": [
      "1/1 [==============================] - 0s 65ms/step\n",
      "This Comment is Positive\n"
     ]
    }
   ],
   "source": [
    "## this positive comment for youtube \n",
    "example = \"First of all this project is so interesting!!! You are amazing, teaching means telling me why exactly we are we doing what we are doing. Thank you for being a real tutor and not being boring too! i was always questioning my brains ability but your way of teaching made me realize that its not my brain its the way we are being taught. I bet your channel is going to bring me to the next level\"\n",
    "sentiment = predict_sentiment(example)\n",
    "print(f'This Comment is {sentiment}')"
   ]
  },
  {
   "cell_type": "code",
   "execution_count": 108,
   "id": "03e3984e-3766-490c-b647-81770d649d59",
   "metadata": {},
   "outputs": [
    {
     "name": "stdout",
     "output_type": "stream",
     "text": [
      "1/1 [==============================] - 0s 67ms/step\n",
      "This Comment is Negative\n"
     ]
    }
   ],
   "source": [
    "## this Negative comment \n",
    "example_2 = \"i lost all my friends, i`m alone and sleepy.\"\n",
    "sentiment = predict_sentiment(example_2)\n",
    "print(f'This Comment is {sentiment}')"
   ]
  },
  {
   "cell_type": "code",
   "execution_count": 107,
   "id": "7f3b89b6-6933-47a4-ab45-d3c1f6a98cb3",
   "metadata": {},
   "outputs": [
    {
     "name": "stdout",
     "output_type": "stream",
     "text": [
      "1/1 [==============================] - 0s 80ms/step\n",
      "This Comment is Neutral\n"
     ]
    }
   ],
   "source": [
    "## this Neutral comment \n",
    "example_2 = \"If you know such agent, do let me know\"\n",
    "sentiment = predict_sentiment(example_2)\n",
    "print(f'This Comment is {sentiment}')"
   ]
  },
  {
   "cell_type": "markdown",
   "id": "de36d2ef-1f92-418f-af63-b5379d865c2b",
   "metadata": {},
   "source": [
    "## 10 Save The Model "
   ]
  },
  {
   "cell_type": "code",
   "execution_count": 60,
   "id": "ae0ef291-b45e-4a65-b953-fdddf25bd687",
   "metadata": {},
   "outputs": [],
   "source": [
    "model_tom.save('model_tom.h5')"
   ]
  }
 ],
 "metadata": {
  "kernelspec": {
   "display_name": "Python 3 (ipykernel)",
   "language": "python",
   "name": "python3"
  },
  "language_info": {
   "codemirror_mode": {
    "name": "ipython",
    "version": 3
   },
   "file_extension": ".py",
   "mimetype": "text/x-python",
   "name": "python",
   "nbconvert_exporter": "python",
   "pygments_lexer": "ipython3",
   "version": "3.11.5"
  }
 },
 "nbformat": 4,
 "nbformat_minor": 5
}
